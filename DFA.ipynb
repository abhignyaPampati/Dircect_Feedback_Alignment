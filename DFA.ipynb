{
  "nbformat": 4,
  "nbformat_minor": 0,
  "metadata": {
    "colab": {
      "name": "DFA",
      "provenance": [],
      "collapsed_sections": []
    },
    "kernelspec": {
      "name": "python3",
      "display_name": "Python 3"
    },
    "language_info": {
      "name": "python"
    },
    "accelerator": "GPU"
  },
  "cells": [
    {
      "cell_type": "code",
      "metadata": {
        "colab": {
          "base_uri": "https://localhost:8080/"
        },
        "id": "KfEbzmU-orgg",
        "outputId": "64062384-778b-446a-92c3-2c816fd36a36"
      },
      "source": [
        "pip install pyprind"
      ],
      "execution_count": null,
      "outputs": [
        {
          "output_type": "stream",
          "text": [
            "Collecting pyprind\n",
            "  Downloading PyPrind-2.11.3-py2.py3-none-any.whl (8.4 kB)\n",
            "Installing collected packages: pyprind\n",
            "Successfully installed pyprind-2.11.3\n"
          ],
          "name": "stdout"
        }
      ]
    },
    {
      "cell_type": "code",
      "metadata": {
        "id": "X7Oj_7W1uKLP"
      },
      "source": [
        "import cupy as np\n",
        "import matplotlib.pyplot as plt\n",
        "import enum as enum\n",
        "from keras.datasets import mnist, cifar10\n",
        "from keras.utils.np_utils import to_categorical\n",
        "import pyprind"
      ],
      "execution_count": null,
      "outputs": []
    },
    {
      "cell_type": "code",
      "metadata": {
        "id": "yNAVUtum-dxx"
      },
      "source": [
        "class ActivationTypes(enum.Enum):\n",
        "  tanh = 'Tanh'\n",
        "  sigmoid = 'Sigmoid'\n",
        "  softmax = 'Softmax'\n",
        "  linear = 'Linear'\n",
        "\n",
        "class Activation:\n",
        "  def __init__(self, activation_type):\n",
        "    assert isinstance(activation_type, ActivationTypes)\n",
        "    self.activation_type = activation_type\n",
        "\n",
        "  def calculate(self,input):\n",
        "    if self.activation_type is ActivationTypes.linear:\n",
        "      return input\n",
        "    elif self.activation_type is ActivationTypes.tanh:\n",
        "      return np.tanh(input)\n",
        "    elif self.activation_type is ActivationTypes.sigmoid:\n",
        "      return self.__sigmoid(input)\n",
        "    elif self.activation_type is ActivationTypes.softmax:\n",
        "      return np.multiply(np.exp(input), 1./np.sum(np.exp(input), axis=1, keepdims=True))\n",
        "\n",
        "  def derivative(self,input):\n",
        "    if self.activation_type is ActivationTypes.linear:\n",
        "      return np.ones(input.shape)\n",
        "    elif self.activation_type is ActivationTypes.tanh:\n",
        "      return 1 - (np.tanh(input))**2\n",
        "    elif self.activation_type is ActivationTypes.sigmoid:\n",
        "      sigmoid_value = self.__sigmoid(input)\n",
        "      return np.multiply(sigmoid_value,(1 - sigmoid_value))\n",
        "    elif self.activation_type is ActivationTypes.softmax:\n",
        "      softmax_value = np.multiply(np.exp(input), 1./np.sum(np.exp(input), axis=1, keepdims=True))\n",
        "      return np.multiply(softmax_value,(1 - softmax_value))\n",
        "  \n",
        "  def __sigmoid(self, input):\n",
        "    return 1./(1 + np.exp(-input))"
      ],
      "execution_count": null,
      "outputs": []
    },
    {
      "cell_type": "code",
      "metadata": {
        "id": "3jOLoGKwuiUu"
      },
      "source": [
        "class Layer_DFA:\n",
        "  def __init__(self, input_dim, output_dim, final_dim, activation, fan_in, fan_out, learning_rate):\n",
        "    assert isinstance(activation, ActivationTypes)\n",
        "    self.input_dim = input_dim\n",
        "    self.output_dim = output_dim\n",
        "    self.final_dim = final_dim\n",
        "    self.fan_in = fan_in\n",
        "    self.fan_out = fan_out\n",
        "    self.activation = activation\n",
        "    self.non_linearity = Activation(activation)\n",
        "    self.learning_rate = learning_rate\n",
        "    in_param = 1./np.sqrt(fan_in)\n",
        "    out_param = 1./np.sqrt(fan_out)\n",
        "    self.forward_weights = np.random.uniform(-in_param, in_param, (input_dim + 1, output_dim))\n",
        "    self.feedback_weights = np.random.uniform(-out_param, out_param, (final_dim, output_dim))\n",
        "\n",
        "  def forward_pass(self, input):\n",
        "    self.recent_input = np.c_[ np.ones(input.shape[0]), input]\n",
        "    self.recent_a = np.matmul(self.recent_input, self.forward_weights)\n",
        "    self.recent_output = self.non_linearity.calculate( self.recent_a)\n",
        "    return self.recent_output\n",
        "\n",
        "  def align_feedback(self, errors):\n",
        "    derivative_a = np.multiply( np.matmul(errors, self.feedback_weights), self.non_linearity.derivative(self.recent_a))\n",
        "    self.update = -np.matmul(self.recent_input.T, derivative_a)\n",
        "    self.forward_weights = self.forward_weights + self.update*self.learning_rate\n",
        "    return errors\n",
        "\n",
        "class FinalLayer_DFA(Layer_DFA):\n",
        "  def __init__(self, input_dim, output_dim, activation, fan_in, fan_out, learning_rate):\n",
        "    super().__init__(input_dim, output_dim, output_dim, activation, fan_in, fan_out, learning_rate)\n",
        "\n",
        "  def align_feedback(self, errors):\n",
        "    derivative_a = np.multiply(errors, self.non_linearity.derivative(self.recent_a))\n",
        "    self.update =  -np.matmul(self.recent_input.T, errors)\n",
        "    self.forward_weights = self.forward_weights + self.update*self.learning_rate\n",
        "    return errors"
      ],
      "execution_count": null,
      "outputs": []
    },
    {
      "cell_type": "code",
      "metadata": {
        "id": "zPEsJ8MY4F56"
      },
      "source": [
        "class NeuralNet_DFA:\n",
        "  def __init__(self):\n",
        "    self.layers = []\n",
        "\n",
        "  def add_layer(self, layer):\n",
        "    assert isinstance(layer, Layer_DFA)\n",
        "    self.layers.append(layer)\n",
        "\n",
        "  def show_model(self):\n",
        "    print(\"Model Type: Dense Neural Network with Direct Feedback Alignment (DFA)\")\n",
        "    print(\"_\"*93)\n",
        "    print(\"Layer\",\" \"*22,\"Number of nodes\",\" \"*10,\"Activation\",\" \"*10,\"Learning Rate\")\n",
        "    print(\"=\"*93)\n",
        "    layers_num = len(self.layers)\n",
        "    print(\"Input Layer\", \" \"*21, self.layers[0].input_dim, \" \"*(21-len(str(self.layers[0].input_dim))), self.layers[0].activation.value,\" \"*(22-len(self.layers[0].activation.value)),self.layers[0].learning_rate)\n",
        "    print(\"-\"*93)\n",
        "    for i in range(1,layers_num):\n",
        "      print(\"Hidden Layer\", \" \"*20, self.layers[i].input_dim, \" \"*(21-len(str(self.layers[i].input_dim))), self.layers[i].activation.value,\" \"*(22-len(self.layers[i].activation.value)),self.layers[i].learning_rate)\n",
        "      print(\"-\"*93)\n",
        "    print(\"Output Layer\", \" \"*20, self.layers[layers_num-1].output_dim)\n",
        "    print(\"=\"*93)\n",
        "\n",
        "  def verify_dimensions(self):\n",
        "    fin_dim = self.layers[len(self.layers)-1].output_dim\n",
        "    for i in range(1,len(self.layers)):\n",
        "      if (self.layers[i].input_dim != self.layers[i-1].output_dim) or (self.layers[i-1].final_dim != fin_dim):\n",
        "        print(\"Improper dimensions between layers,\",i,\"and\",i+1)\n",
        "        return False\n",
        "    return True\n",
        "\n",
        "  def train(self, inputs, outputs, batch_size, epochs, suppress_outputs=False):\n",
        "    assert isinstance(self.layers[-1], FinalLayer_DFA)\n",
        "    if not self.verify_dimensions():\n",
        "      print(\"-------Training Aborted-------\")\n",
        "      return \n",
        "    print(\"Training the model...\")\n",
        "    errors = []\n",
        "    if suppress_outputs:\n",
        "      prog_bar = pyprind.ProgBar(epochs, bar_char=\"-\")\n",
        "    for epoch in range(1,epochs+1):\n",
        "      if not suppress_outputs:\n",
        "        if epoch%10 == 1:\n",
        "          print(\"Epoch\", epoch,\":\",epoch+9,\" [\",end=\"\")\n",
        "      perm = np.random.permutation(inputs.shape[0])\n",
        "      inputs = inputs[perm]\n",
        "      outputs = outputs[perm]\n",
        "      error = 0\n",
        "      for batch_num in range(int(inputs.shape[0]/batch_size)):\n",
        "        batch_input = inputs[batch_num*batch_size : (batch_num+1)*batch_size]\n",
        "        batch_output = outputs[batch_num*batch_size : (batch_num+1)*batch_size]\n",
        "        layer_input = batch_input\n",
        "        for layer in self.layers:\n",
        "          layer_input = layer.forward_pass(layer_input)\n",
        "        output = layer_input\n",
        "        batch_error = output - batch_output\n",
        "        for layer in self.layers:\n",
        "          layer.align_feedback(batch_error)\n",
        "        predictions = np.argmax(output, axis=1)\n",
        "        targets = np.argmax(batch_output, axis=1)\n",
        "        error += (1.*np.sum(predictions!=targets))\n",
        "      errors.append(error/inputs.shape[0])\n",
        "      if not suppress_outputs:\n",
        "        if epoch%10 == 0:\n",
        "          print(\"]\")\n",
        "          print(\"Errors = [ \", end=\"\")\n",
        "          for k in range(epoch-10,epoch):\n",
        "            print('%.7f' %errors[k], end=\" \")\n",
        "          print(\"]\")\n",
        "          print(\"Average error = \", '%.7f' %np.mean(np.array(errors[epoch-10:epoch])),'\\n')\n",
        "        else:\n",
        "          print(\"==\",end=\"\")\n",
        "      else:\n",
        "        prog_bar.update()\n",
        "    return errors\n",
        "\n",
        "\n",
        "  def test(self, inputs, outputs):\n",
        "    layer_input = inputs\n",
        "    for layer in self.layers:\n",
        "      layer_input = layer.forward_pass(layer_input)\n",
        "    output = layer_input\n",
        "    prediction = np.argmax(output, axis=1)\n",
        "    actual = np.argmax(outputs, axis=1)\n",
        "    error = np.sum(prediction!=actual)\n",
        "    return error/inputs.shape[0]"
      ],
      "execution_count": null,
      "outputs": []
    },
    {
      "cell_type": "code",
      "metadata": {
        "id": "q-2KKkV6X-mb"
      },
      "source": [
        "class Layer_BP:\n",
        "  def __init__(self, input_dim, output_dim,  activation, learning_rate):\n",
        "    assert isinstance(activation, ActivationTypes)\n",
        "    self.input_dim = input_dim\n",
        "    self.output_dim = output_dim\n",
        "    self.activation = activation\n",
        "    self.non_linearity = Activation(activation)\n",
        "    self.learning_rate = learning_rate\n",
        "    self.forward_weights = np.random.uniform(-1, 1, (input_dim + 1, output_dim))\n",
        "\n",
        "  def forward_pass(self, input):\n",
        "    self.recent_input = np.c_[ np.ones(input.shape[0]), input]\n",
        "    self.recent_a = np.matmul(self.recent_input, self.forward_weights)\n",
        "    self.recent_output = self.non_linearity.calculate( self.recent_a)\n",
        "    return self.recent_output\n",
        "\n",
        "  def back_prop(self, errors):\n",
        "    derivative_a = np.multiply( errors, self.non_linearity.derivative(self.recent_a))\n",
        "    weight_update = -np.matmul(self.recent_input.T, derivative_a)\n",
        "    propogation = np.matmul(derivative_a, self.forward_weights[1:,:].T)\n",
        "    self.forward_weights = self.forward_weights + weight_update*self.learning_rate\n",
        "    return propogation\n"
      ],
      "execution_count": null,
      "outputs": []
    },
    {
      "cell_type": "code",
      "metadata": {
        "id": "XeE2HtZleCtO"
      },
      "source": [
        "class NeuralNet_BP:\n",
        "  def __init__(self):\n",
        "    self.layers = []\n",
        "\n",
        "  def add_layer(self, layer):\n",
        "    assert isinstance(layer, Layer_BP)\n",
        "    self.layers.append(layer)\n",
        "  \n",
        "  def verify_dimensions(self):\n",
        "    for i in range(1,len(self.layers)):\n",
        "      if (self.layers[i].input_dim != self.layers[i-1].output_dim):\n",
        "        print(\"Improper dimensions between layers,\",i,\"and\",i+1)\n",
        "        return False\n",
        "    return True\n",
        "\n",
        "  def show_model(self):\n",
        "    print(\"Model Type: Dense Neural Network with Back Propogation (BP)\")\n",
        "    print(\"_\"*93)\n",
        "    print(\"Layer\",\" \"*22,\"Number of nodes\",\" \"*10,\"Activation\",\" \"*10,\"Learning Rate\")\n",
        "    print(\"=\"*93)\n",
        "    layers_num = len(self.layers)\n",
        "    print(\"Input Layer\", \" \"*21, self.layers[0].input_dim, \" \"*(21-len(str(self.layers[0].input_dim))), self.layers[0].activation.value,\" \"*(22-len(self.layers[0].activation.value)),self.layers[0].learning_rate)\n",
        "    print(\"-\"*93)\n",
        "    for i in range(1,layers_num):\n",
        "      print(\"Hidden Layer\", \" \"*20, self.layers[i].input_dim, \" \"*(21-len(str(self.layers[i].input_dim))), self.layers[i].activation.value,\" \"*(22-len(self.layers[i].activation.value)),self.layers[i].learning_rate)\n",
        "      print(\"-\"*93)\n",
        "    print(\"Output Layer\", \" \"*20, self.layers[layers_num-1].output_dim)\n",
        "    print(\"=\"*93)\n",
        "  \n",
        "  def train(self, inputs, outputs, batch_size, epochs, suppress_outputs=False):\n",
        "    if not self.verify_dimensions():\n",
        "      print(\"-------Training Aborted-------\")\n",
        "      return \n",
        "    print(\"Training the model...\")\n",
        "    errors = []\n",
        "    if suppress_outputs:\n",
        "      prog_bar = pyprind.ProgBar(epochs, bar_char=\"-\")\n",
        "    for epoch in range(1,epochs+1):\n",
        "      if not suppress_outputs:\n",
        "        if epoch%10 == 1:\n",
        "          print(\"Epoch\", epoch,\":\",epoch+9,\" [\",end=\"\")\n",
        "      perm = np.random.permutation(inputs.shape[0])\n",
        "      inputs = inputs[perm]\n",
        "      outputs = outputs[perm]\n",
        "      error = 0\n",
        "      for batch_num in range(int(inputs.shape[0]/batch_size)):\n",
        "        batch_input = inputs[batch_num*batch_size : (batch_num+1)*batch_size]\n",
        "        batch_output = outputs[batch_num*batch_size : (batch_num+1)*batch_size]\n",
        "        layer_input = batch_input\n",
        "        for layer in self.layers:\n",
        "          layer_input = layer.forward_pass(layer_input)\n",
        "        output = layer_input\n",
        "        batch_error = output - batch_output\n",
        "        for i in range(len(self.layers)-1, -1, -1): \n",
        "          batch_error = self.layers[i].back_prop(batch_error)\n",
        "        predictions = np.argmax(output, axis=1)\n",
        "        targets = np.argmax(batch_output, axis=1)\n",
        "        error += (1.*np.sum(predictions!=targets))\n",
        "      errors.append(error/inputs.shape[0])\n",
        "      if not suppress_outputs:\n",
        "        if epoch%10 == 0:\n",
        "          print(\"]\")\n",
        "          print(\"Errors = [ \", end=\"\")\n",
        "          for k in range(epoch-10,epoch):\n",
        "            print('%.7f' %errors[k], end=\" \")\n",
        "          print(\"]\")\n",
        "          print(\"Average error = \", '%.7f' %np.mean(np.array(errors[epoch-10:epoch])),'\\n')\n",
        "        else:\n",
        "          print(\"==\",end=\"\")\n",
        "      else:\n",
        "        prog_bar.update()\n",
        "    return errors\n",
        "        \n",
        "  def test(self, inputs, outputs):\n",
        "    layer_input = inputs\n",
        "    for layer in self.layers:\n",
        "      layer_input = layer.forward_pass(layer_input)\n",
        "    output = layer_input\n",
        "    prediction = np.argmax(output, axis=1)\n",
        "    actual = np.argmax(outputs, axis=1)\n",
        "    error = np.sum(prediction!=actual)\n",
        "    return error/inputs.shape[0]"
      ],
      "execution_count": null,
      "outputs": []
    },
    {
      "cell_type": "code",
      "metadata": {
        "colab": {
          "base_uri": "https://localhost:8080/"
        },
        "id": "eJ0BvIkyZlr5",
        "outputId": "ffb0ddf9-320c-4c4c-bf51-e39b6c79507c"
      },
      "source": [
        "# MNIST Dataset\n",
        "(X_train, Y_train), (X_test, Y_test) = mnist.load_data()\n",
        "X_train = X_train.astype('float32')\n",
        "X_test = X_test.astype('float32')\n",
        "X_train = np.array(X_train.reshape(60000, 28*28)/255)\n",
        "X_test = np.array(X_test.reshape(10000, 28*28)/255)\n",
        "Y_train = np.array(to_categorical(Y_train, 10))\n",
        "Y_test = np.array(to_categorical(Y_test, 10))"
      ],
      "execution_count": null,
      "outputs": [
        {
          "output_type": "stream",
          "text": [
            "Downloading data from https://storage.googleapis.com/tensorflow/tf-keras-datasets/mnist.npz\n",
            "11493376/11490434 [==============================] - 0s 0us/step\n",
            "11501568/11490434 [==============================] - 0s 0us/step\n"
          ],
          "name": "stdout"
        }
      ]
    },
    {
      "cell_type": "code",
      "metadata": {
        "colab": {
          "base_uri": "https://localhost:8080/",
          "height": 785
        },
        "id": "LovgOvDRbUAp",
        "outputId": "c88d8432-306b-4669-eee8-2f0864ebe756"
      },
      "source": [
        "sizes = [100, 1000, 5000, 10000, 20000]\n",
        "for size in sizes:\n",
        "  print(\"Batch size = \",size)\n",
        "  NN = NeuralNet_DFA()\n",
        "  NN.add_layer(Layer_DFA(784, 800, 10, ActivationTypes.tanh, 1, 9, 1e-3))\n",
        "  NN.add_layer(FinalLayer_DFA(800, 10, ActivationTypes.sigmoid, 1, 9, 1e-3))\n",
        "  train_errors = NN.train(X_train, Y_train, size,100,suppress_outputs=True)\n",
        "  test_error = NN.test(X_test, Y_test)\n",
        "  plt.plot(range(100),train_errors, label=\"Batch size = \"+str(size))\n",
        "  print(\"Training accuracy: \",100*(1-train_errors[-1]), \"%,  Test accuracy: \", 100*(1-test_error),\"%\")\n",
        "  print(\"\")\n",
        "plt.legend()\n",
        "plt.show()"
      ],
      "execution_count": null,
      "outputs": [
        {
          "output_type": "stream",
          "text": [
            "Batch size =  100\n",
            "Training the model...\n"
          ],
          "name": "stdout"
        },
        {
          "output_type": "stream",
          "text": [
            "0% [------------------------------] 100% | ETA: 00:00:00\n",
            "Total time elapsed: 00:02:57\n"
          ],
          "name": "stderr"
        },
        {
          "output_type": "stream",
          "text": [
            "Training accuracy:  99.97 %,  Test accuracy:  95.71 %\n",
            "\n",
            "Batch size =  1000\n",
            "Training the model...\n"
          ],
          "name": "stdout"
        },
        {
          "output_type": "stream",
          "text": [
            "0% [------------------------------] 100% | ETA: 00:00:00\n",
            "Total time elapsed: 00:01:28\n"
          ],
          "name": "stderr"
        },
        {
          "output_type": "stream",
          "text": [
            "Training accuracy:  99.96833333333333 %,  Test accuracy:  95.94 %\n",
            "\n",
            "Batch size =  5000\n",
            "Training the model...\n"
          ],
          "name": "stdout"
        },
        {
          "output_type": "stream",
          "text": [
            "0% [------------------------------] 100% | ETA: 00:00:00\n",
            "Total time elapsed: 00:01:19\n"
          ],
          "name": "stderr"
        },
        {
          "output_type": "stream",
          "text": [
            "Training accuracy:  98.07833333333333 %,  Test accuracy:  95.85000000000001 %\n",
            "\n",
            "Batch size =  10000\n",
            "Training the model...\n"
          ],
          "name": "stdout"
        },
        {
          "output_type": "stream",
          "text": [
            "0% [------------------------------] 100% | ETA: 00:00:00\n",
            "Total time elapsed: 00:01:18\n"
          ],
          "name": "stderr"
        },
        {
          "output_type": "stream",
          "text": [
            "Training accuracy:  95.93333333333334 %,  Test accuracy:  94.6 %\n",
            "\n",
            "Batch size =  20000\n",
            "Training the model...\n"
          ],
          "name": "stdout"
        },
        {
          "output_type": "stream",
          "text": [
            "0% [------------------------------] 100% | ETA: 00:00:00\n",
            "Total time elapsed: 00:01:15\n"
          ],
          "name": "stderr"
        },
        {
          "output_type": "stream",
          "text": [
            "Training accuracy:  82.625 %,  Test accuracy:  85.78 %\n",
            "\n"
          ],
          "name": "stdout"
        },
        {
          "output_type": "display_data",
          "data": {
            "image/png": "[encoded data removed]",
            "text/plain": [
              "<Figure size 432x288 with 1 Axes>"
            ]
          },
          "metadata": {
            "tags": [],
            "needs_background": "light"
          }
        }
      ]
    },
    {
      "cell_type": "code",
      "metadata": {
        "colab": {
          "base_uri": "https://localhost:8080/",
          "height": 681
        },
        "id": "4sqgoT2QlNlf",
        "outputId": "634bf555-f39d-4140-ba84-bdcfc13ee4be"
      },
      "source": [
        "fan_outs = [1, 4, 9, 16]\n",
        "for fan_out in fan_outs:\n",
        "  print(\"Fan out = \",fan_out)\n",
        "  NN = NeuralNet_DFA()\n",
        "  NN.add_layer(Layer_DFA(784, 800, 10, ActivationTypes.tanh, 1, fan_out, 1e-3))\n",
        "  NN.add_layer(FinalLayer_DFA(800, 10, ActivationTypes.sigmoid, 1, fan_out, 1e-3))\n",
        "  train_errors = NN.train(X_train, Y_train, 2000,100,suppress_outputs=True)\n",
        "  test_error = NN.test(X_test, Y_test)\n",
        "  plt.plot(range(100),train_errors, label=\"Fan out = \"+str(fan_out))\n",
        "  print(\"Training accuracy: \",100*(1-train_errors[-1]), \"%,  Test accuracy: \", 100*(1-test_error),\"%\")\n",
        "  print(\"\")\n",
        "plt.legend()\n",
        "plt.show()"
      ],
      "execution_count": null,
      "outputs": [
        {
          "output_type": "stream",
          "text": [
            "Fan out =  1\n",
            "Training the model...\n"
          ],
          "name": "stdout"
        },
        {
          "output_type": "stream",
          "text": [
            "0% [------------------------------] 100% | ETA: 00:00:00\n",
            "Total time elapsed: 00:01:25\n"
          ],
          "name": "stderr"
        },
        {
          "output_type": "stream",
          "text": [
            "Training accuracy:  99.53999999999999 %,  Test accuracy:  96.71 %\n",
            "\n",
            "Fan out =  4\n",
            "Training the model...\n"
          ],
          "name": "stdout"
        },
        {
          "output_type": "stream",
          "text": [
            "0% [------------------------------] 100% | ETA: 00:00:00\n",
            "Total time elapsed: 00:01:25\n"
          ],
          "name": "stderr"
        },
        {
          "output_type": "stream",
          "text": [
            "Training accuracy:  99.81166666666667 %,  Test accuracy:  96.43 %\n",
            "\n",
            "Fan out =  9\n",
            "Training the model...\n"
          ],
          "name": "stdout"
        },
        {
          "output_type": "stream",
          "text": [
            "0% [------------------------------] 100% | ETA: 00:00:00\n",
            "Total time elapsed: 00:01:25\n"
          ],
          "name": "stderr"
        },
        {
          "output_type": "stream",
          "text": [
            "Training accuracy:  99.86833333333334 %,  Test accuracy:  96.1 %\n",
            "\n",
            "Fan out =  16\n",
            "Training the model...\n"
          ],
          "name": "stdout"
        },
        {
          "output_type": "stream",
          "text": [
            "0% [------------------------------] 100% | ETA: 00:00:00\n",
            "Total time elapsed: 00:01:25\n"
          ],
          "name": "stderr"
        },
        {
          "output_type": "stream",
          "text": [
            "Training accuracy:  99.67833333333334 %,  Test accuracy:  95.92 %\n",
            "\n"
          ],
          "name": "stdout"
        },
        {
          "output_type": "display_data",
          "data": {
            "image/png": "[encoded data removed]",
            "text/plain": [
              "<Figure size 432x288 with 1 Axes>"
            ]
          },
          "metadata": {
            "tags": [],
            "needs_background": "light"
          }
        }
      ]
    },
    {
      "cell_type": "code",
      "metadata": {
        "colab": {
          "base_uri": "https://localhost:8080/",
          "height": 681
        },
        "id": "yi7RSvL-nnjY",
        "outputId": "1bf0852d-df73-4486-df25-f63094c3f407"
      },
      "source": [
        "fan_ins = [1, 4, 9, 16]\n",
        "for fan_in in fan_outs:\n",
        "  print(\"Fan in = \",fan_in)\n",
        "  NN = NeuralNet_DFA()\n",
        "  NN.add_layer(Layer_DFA(784, 800, 10, ActivationTypes.tanh, fan_in, 1, 1e-3))\n",
        "  NN.add_layer(FinalLayer_DFA(800, 10, ActivationTypes.sigmoid, fan_in, 1, 1e-3))\n",
        "  train_errors = NN.train(X_train, Y_train, 2000,100,suppress_outputs=True)\n",
        "  test_error = NN.test(X_test, Y_test)\n",
        "  plt.plot(range(100),train_errors, label=\"Fan in = \"+str(fan_in))\n",
        "  print(\"Training accuracy: \",100*(1-train_errors[-1]), \"%,  Test accuracy: \", 100*(1-test_error),\"%\")\n",
        "  print(\"\")\n",
        "plt.legend()\n",
        "plt.show()"
      ],
      "execution_count": null,
      "outputs": [
        {
          "output_type": "stream",
          "text": [
            "Fan in =  1\n",
            "Training the model...\n"
          ],
          "name": "stdout"
        },
        {
          "output_type": "stream",
          "text": [
            "0% [------------------------------] 100% | ETA: 00:00:00\n",
            "Total time elapsed: 00:01:25\n"
          ],
          "name": "stderr"
        },
        {
          "output_type": "stream",
          "text": [
            "Training accuracy:  99.81 %,  Test accuracy:  96.75 %\n",
            "\n",
            "Fan in =  4\n",
            "Training the model...\n"
          ],
          "name": "stdout"
        },
        {
          "output_type": "stream",
          "text": [
            "0% [------------------------------] 100% | ETA: 00:00:00\n",
            "Total time elapsed: 00:01:24\n"
          ],
          "name": "stderr"
        },
        {
          "output_type": "stream",
          "text": [
            "Training accuracy:  98.67833333333334 %,  Test accuracy:  96.37 %\n",
            "\n",
            "Fan in =  9\n",
            "Training the model...\n"
          ],
          "name": "stdout"
        },
        {
          "output_type": "stream",
          "text": [
            "0% [------------------------------] 100% | ETA: 00:00:00\n",
            "Total time elapsed: 00:01:24\n"
          ],
          "name": "stderr"
        },
        {
          "output_type": "stream",
          "text": [
            "Training accuracy:  98.25666666666667 %,  Test accuracy:  95.93 %\n",
            "\n",
            "Fan in =  16\n",
            "Training the model...\n"
          ],
          "name": "stdout"
        },
        {
          "output_type": "stream",
          "text": [
            "0% [------------------------------] 100% | ETA: 00:00:00\n",
            "Total time elapsed: 00:01:24\n"
          ],
          "name": "stderr"
        },
        {
          "output_type": "stream",
          "text": [
            "Training accuracy:  98.25500000000001 %,  Test accuracy:  96.22 %\n",
            "\n"
          ],
          "name": "stdout"
        },
        {
          "output_type": "display_data",
          "data": {
            "image/png": "[encoded data removed]",
            "text/plain": [
              "<Figure size 432x288 with 1 Axes>"
            ]
          },
          "metadata": {
            "tags": [],
            "needs_background": "light"
          }
        }
      ]
    },
    {
      "cell_type": "code",
      "metadata": {
        "colab": {
          "base_uri": "https://localhost:8080/"
        },
        "id": "m6LiOXktqs2d",
        "outputId": "8ec1e7bd-01ae-4bc0-d05e-58c9c30c719c"
      },
      "source": [
        "NN = NeuralNet_DFA()\n",
        "NN.add_layer(Layer_DFA(784, 800, 10, ActivationTypes.tanh, 1, 1, 1e-3))\n",
        "NN.add_layer(FinalLayer_DFA(800, 10, ActivationTypes.sigmoid, 1, 1, 1e-3))\n",
        "NN.train(X_train, Y_train, 1000,100)\n",
        "NN.test(X_test, Y_test)"
      ],
      "execution_count": null,
      "outputs": [
        {
          "output_type": "stream",
          "text": [
            "Training the model...\n",
            "Epoch 1 : 10  [==================]\n",
            "Errors = [ 0.3842333 0.1651667 0.1239000 0.0932167 0.0869500 0.0731833 0.0638333 0.0597333 0.0529000 0.0517667 ]\n",
            "Average error =  0.1154883 \n",
            "\n",
            "Epoch 11 : 20  [==================]\n",
            "Errors = [ 0.0420833 0.0421000 0.0374500 0.0348167 0.0373667 0.0293000 0.0270500 0.0300167 0.0234667 0.0215167 ]\n",
            "Average error =  0.0325167 \n",
            "\n",
            "Epoch 21 : 30  [==================]\n",
            "Errors = [ 0.0198167 0.0186167 0.0172500 0.0162500 0.0153833 0.0137667 0.0122833 0.0119167 0.0107833 0.0097333 ]\n",
            "Average error =  0.0145800 \n",
            "\n",
            "Epoch 31 : 40  [==================]\n",
            "Errors = [ 0.0089333 0.0079333 0.0077500 0.0072000 0.0068333 0.0059167 0.0054833 0.0051167 0.0047333 0.0043833 ]\n",
            "Average error =  0.0064283 \n",
            "\n",
            "Epoch 41 : 50  [==================]\n",
            "Errors = [ 0.0042500 0.0037167 0.0036500 0.0031500 0.0028000 0.0027167 0.0021833 0.0023000 0.0019500 0.0016833 ]\n",
            "Average error =  0.0028400 \n",
            "\n",
            "Epoch 51 : 60  [==================]\n",
            "Errors = [ 0.0014667 0.0014667 0.0012000 0.0010333 0.0011500 0.0009667 0.0008500 0.0008667 0.0008167 0.0007667 ]\n",
            "Average error =  0.0010583 \n",
            "\n",
            "Epoch 61 : 70  [==================]\n",
            "Errors = [ 0.0006833 0.0007333 0.0006500 0.0006500 0.0006000 0.0004833 0.0005000 0.0004500 0.0004167 0.0003667 ]\n",
            "Average error =  0.0005533 \n",
            "\n",
            "Epoch 71 : 80  [==================]\n",
            "Errors = [ 0.0003500 0.0003167 0.0003000 0.0002833 0.0003000 0.0002667 0.0002667 0.0002000 0.0002167 0.0002000 ]\n",
            "Average error =  0.0002700 \n",
            "\n",
            "Epoch 81 : 90  [==================]\n",
            "Errors = [ 0.0001833 0.0001833 0.0001667 0.0001667 0.0001667 0.0001500 0.0001500 0.0001500 0.0001333 0.0001333 ]\n",
            "Average error =  0.0001583 \n",
            "\n",
            "Epoch 91 : 100  [==================]\n",
            "Errors = [ 0.0001000 0.0001167 0.0000833 0.0000833 0.0000500 0.0000500 0.0000667 0.0000500 0.0000500 0.0000500 ]\n",
            "Average error =  0.0000700 \n",
            "\n"
          ],
          "name": "stdout"
        },
        {
          "output_type": "execute_result",
          "data": {
            "text/plain": [
              "array(0.032)"
            ]
          },
          "metadata": {
            "tags": []
          },
          "execution_count": 14
        }
      ]
    },
    {
      "cell_type": "code",
      "metadata": {
        "colab": {
          "base_uri": "https://localhost:8080/"
        },
        "id": "XgotCd3waWYk",
        "outputId": "f2c14737-08a7-426a-b0b6-9b43d6b1607f"
      },
      "source": [
        "NN_BP = NeuralNet_BP()\n",
        "NN_BP.add_layer(Layer_BP(784, 800, ActivationTypes.tanh, 1e-2))\n",
        "NN_BP.add_layer(Layer_BP(800, 10, ActivationTypes.sigmoid, 1e-3))\n",
        "NN_BP.train(X_train, Y_train, 1000,100)\n",
        "NN_BP.test(X_test, Y_test)"
      ],
      "execution_count": null,
      "outputs": [
        {
          "output_type": "stream",
          "text": [
            "Training the model...\n",
            "Epoch 1 : 10  [==================]\n",
            "Errors = [ 0.7311000 0.6410167 0.5627500 0.4835667 0.3869833 0.3607333 0.3479667 0.3408167 0.3368167 0.3335167 ]\n",
            "Average error =  0.4525267 \n",
            "\n",
            "Epoch 11 : 20  [==================]\n",
            "Errors = [ 0.3317000 0.3295833 0.3281833 0.3271833 0.3262833 0.3252833 0.3247500 0.3243000 0.3236167 0.3230667 ]\n",
            "Average error =  0.3263950 \n",
            "\n",
            "Epoch 21 : 30  [==================]\n",
            "Errors = [ 0.3223167 0.3220667 0.3217000 0.3213333 0.3207500 0.3204000 0.3201667 0.3198667 0.3195833 0.3191500 ]\n",
            "Average error =  0.3207333 \n",
            "\n",
            "Epoch 31 : 40  [==================]\n",
            "Errors = [ 0.3191000 0.3188000 0.3184333 0.3182833 0.3174833 0.3174167 0.3170167 0.3167833 0.3167000 0.3166000 ]\n",
            "Average error =  0.3176617 \n",
            "\n",
            "Epoch 41 : 50  [==================]\n",
            "Errors = [ 0.3163833 0.3161167 0.3154167 0.3145167 0.3125333 0.3085833 0.2755000 0.2301333 0.2269333 0.2255333 ]\n",
            "Average error =  0.2841650 \n",
            "\n",
            "Epoch 51 : 60  [==================]\n",
            "Errors = [ 0.2245167 0.2240833 0.2234500 0.2231500 0.2226833 0.2224833 0.2221833 0.2219667 0.2218667 0.2215167 ]\n",
            "Average error =  0.2227900 \n",
            "\n",
            "Epoch 61 : 70  [==================]\n",
            "Errors = [ 0.2214833 0.2214333 0.2212667 0.2211333 0.2208833 0.2208500 0.2207667 0.2205167 0.2203667 0.2202500 ]\n",
            "Average error =  0.2208950 \n",
            "\n",
            "Epoch 71 : 80  [==================]\n",
            "Errors = [ 0.2199333 0.2199500 0.2197000 0.2196000 0.2193833 0.2193167 0.2193500 0.2192667 0.2193333 0.2192333 ]\n",
            "Average error =  0.2195067 \n",
            "\n",
            "Epoch 81 : 90  [==================]\n",
            "Errors = [ 0.2192333 0.2192333 0.2191000 0.2191000 0.2190167 0.2189833 0.2188500 0.2189333 0.2187667 0.2188000 ]\n",
            "Average error =  0.2190017 \n",
            "\n",
            "Epoch 91 : 100  [==================]\n",
            "Errors = [ 0.2188667 0.2186833 0.2186167 0.2186333 0.2185667 0.2185167 0.2184500 0.2184667 0.2184667 0.2184000 ]\n",
            "Average error =  0.2185667 \n",
            "\n"
          ],
          "name": "stdout"
        },
        {
          "output_type": "execute_result",
          "data": {
            "text/plain": [
              "array(0.2279)"
            ]
          },
          "metadata": {
            "tags": []
          },
          "execution_count": 17
        }
      ]
    },
    {
      "cell_type": "code",
      "metadata": {
        "colab": {
          "base_uri": "https://localhost:8080/"
        },
        "id": "4GzNI8FVVO74",
        "outputId": "aaedee85-e535-4f72-9357-84ddb27866e6"
      },
      "source": [
        "NN_BP = NeuralNet_BP()\n",
        "NN_BP.add_layer(Layer_BP(784, 800, ActivationTypes.tanh, 1e-2))\n",
        "NN_BP.add_layer(Layer_BP(800, 10, ActivationTypes.sigmoid, 1e-3))\n",
        "NN_BP.train(X_train, Y_train, 1000,500)\n",
        "NN_BP.test(X_test, Y_test)"
      ],
      "execution_count": null,
      "outputs": [
        {
          "output_type": "stream",
          "text": [
            "Training the model...\n",
            "Epoch 1 : 10  [==================]\n",
            "Errors = [ 0.6829667 0.5754667 0.5056667 0.4949667 0.4904500 0.4878000 0.4861167 0.4841333 0.4813000 0.4697500 ]\n",
            "Average error =  0.5158617 \n",
            "\n",
            "Epoch 11 : 20  [==================]\n",
            "Errors = [ 0.4177667 0.4078000 0.4052667 0.4042667 0.4034500 0.4025667 0.4014500 0.4007000 0.4002333 0.4000000 ]\n",
            "Average error =  0.4043500 \n",
            "\n",
            "Epoch 21 : 30  [==================]\n",
            "Errors = [ 0.3999000 0.3990833 0.3985833 0.3984500 0.3979667 0.3978000 0.3972667 0.3970833 0.3963333 0.3953167 ]\n",
            "Average error =  0.3977783 \n",
            "\n",
            "Epoch 31 : 40  [==================]\n",
            "Errors = [ 0.3939167 0.3927167 0.3910833 0.3851500 0.3551500 0.3376333 0.3317167 0.3284333 0.3261333 0.3248333 ]\n",
            "Average error =  0.3566767 \n",
            "\n",
            "Epoch 41 : 50  [==================]\n",
            "Errors = [ 0.3239000 0.3228500 0.3221333 0.3216667 0.3208000 0.3203167 0.3201333 0.3199333 0.3197000 0.3193500 ]\n",
            "Average error =  0.3210783 \n",
            "\n",
            "Epoch 51 : 60  [==================]\n",
            "Errors = [ 0.3191667 0.3190167 0.3189667 0.3188167 0.3184167 0.3184000 0.3181000 0.3180167 0.3178667 0.3178333 ]\n",
            "Average error =  0.3184600 \n",
            "\n",
            "Epoch 61 : 70  [==================]\n",
            "Errors = [ 0.3177833 0.3175833 0.3175000 0.3172833 0.3173000 0.3172500 0.3171000 0.3171167 0.3170667 0.3170333 ]\n",
            "Average error =  0.3173017 \n",
            "\n",
            "Epoch 71 : 80  [==================]\n",
            "Errors = [ 0.3170000 0.3169167 0.3169333 0.3166333 0.3166833 0.3164667 0.3164333 0.3164333 0.3163500 0.3163333 ]\n",
            "Average error =  0.3166183 \n",
            "\n",
            "Epoch 81 : 90  [==================]\n",
            "Errors = [ 0.3162333 0.3161667 0.3162667 0.3160333 0.3159167 0.3160000 0.3158500 0.3158667 0.3157833 0.3157167 ]\n",
            "Average error =  0.3159833 \n",
            "\n",
            "Epoch 91 : 100  [==================]\n",
            "Errors = [ 0.3158333 0.3155500 0.3154500 0.3154833 0.3154167 0.3153500 0.3152500 0.3152167 0.3150667 0.3150333 ]\n",
            "Average error =  0.3153650 \n",
            "\n",
            "Epoch 101 : 110  [==================]\n",
            "Errors = [ 0.3150167 0.3150667 0.3149667 0.3150000 0.3151000 0.3149333 0.3149500 0.3148833 0.3147667 0.3147667 ]\n",
            "Average error =  0.3149450 \n",
            "\n",
            "Epoch 111 : 120  [==================]\n",
            "Errors = [ 0.3147000 0.3147000 0.3146667 0.3144667 0.3143833 0.3143167 0.3142500 0.3142167 0.3142000 0.3141500 ]\n",
            "Average error =  0.3144050 \n",
            "\n",
            "Epoch 121 : 130  [==================]\n",
            "Errors = [ 0.3141500 0.3140833 0.3140500 0.3139333 0.3138833 0.3138500 0.3137000 0.3134667 0.3131833 0.3131333 ]\n",
            "Average error =  0.3137433 \n",
            "\n",
            "Epoch 131 : 140  [==================]\n",
            "Errors = [ 0.3131833 0.3130000 0.3129667 0.3127167 0.3126333 0.3126833 0.3125000 0.3121833 0.3121667 0.3118833 ]\n",
            "Average error =  0.3125917 \n",
            "\n",
            "Epoch 141 : 150  [==================]\n",
            "Errors = [ 0.3118167 0.3119000 0.3118500 0.3117500 0.3115333 0.3114500 0.3112333 0.3111000 0.3108333 0.3100667 ]\n",
            "Average error =  0.3113533 \n",
            "\n",
            "Epoch 151 : 160  [==================]\n",
            "Errors = [ 0.3090833 0.3074000 0.3052167 0.2847333 0.2463000 0.2339833 0.2299000 0.2282500 0.2272167 0.2260500 ]\n",
            "Average error =  0.2598133 \n",
            "\n",
            "Epoch 161 : 170  [==================]\n",
            "Errors = [ 0.2254000 0.2250667 0.2249333 0.2244667 0.2242167 0.2238667 0.2236333 0.2234167 0.2233333 0.2230833 ]\n",
            "Average error =  0.2241417 \n",
            "\n",
            "Epoch 171 : 180  [==================]\n",
            "Errors = [ 0.2228500 0.2227167 0.2225667 0.2225000 0.2223333 0.2220000 0.2220833 0.2218667 0.2216667 0.2216500 ]\n",
            "Average error =  0.2222233 \n",
            "\n",
            "Epoch 181 : 190  [==================]\n",
            "Errors = [ 0.2214333 0.2213833 0.2213500 0.2213333 0.2212500 0.2210833 0.2210167 0.2208333 0.2208500 0.2207500 ]\n",
            "Average error =  0.2211283 \n",
            "\n",
            "Epoch 191 : 200  [==================]\n",
            "Errors = [ 0.2206833 0.2205667 0.2205833 0.2204333 0.2204167 0.2203167 0.2202333 0.2203167 0.2202333 0.2201667 ]\n",
            "Average error =  0.2203950 \n",
            "\n",
            "Epoch 201 : 210  [==================]\n",
            "Errors = [ 0.2200500 0.2200833 0.2201000 0.2200667 0.2200000 0.2200000 0.2199500 0.2199333 0.2198833 0.2198500 ]\n",
            "Average error =  0.2199917 \n",
            "\n",
            "Epoch 211 : 220  [==================]\n",
            "Errors = [ 0.2197500 0.2196667 0.2195833 0.2196500 0.2195500 0.2195667 0.2195333 0.2195000 0.2194833 0.2194500 ]\n",
            "Average error =  0.2195733 \n",
            "\n",
            "Epoch 221 : 230  [==================]\n",
            "Errors = [ 0.2195167 0.2193500 0.2194667 0.2194333 0.2193667 0.2193833 0.2193333 0.2192500 0.2191667 0.2191333 ]\n",
            "Average error =  0.2193400 \n",
            "\n",
            "Epoch 231 : 240  [==================]\n",
            "Errors = [ 0.2190667 0.2190833 0.2191000 0.2190500 0.2191667 0.2191167 0.2190000 0.2190167 0.2190167 0.2189667 ]\n",
            "Average error =  0.2190583 \n",
            "\n",
            "Epoch 241 : 250  [==================]\n",
            "Errors = [ 0.2188667 0.2188667 0.2188500 0.2189333 0.2189000 0.2188833 0.2189167 0.2188667 0.2188000 0.2188500 ]\n",
            "Average error =  0.2188733 \n",
            "\n",
            "Epoch 251 : 260  [==================]\n",
            "Errors = [ 0.2188500 0.2188000 0.2187500 0.2187333 0.2187167 0.2187500 0.2186833 0.2186500 0.2187000 0.2187167 ]\n",
            "Average error =  0.2187350 \n",
            "\n",
            "Epoch 261 : 270  [==================]\n",
            "Errors = [ 0.2187833 0.2187000 0.2186333 0.2186833 0.2187667 0.2186833 0.2186833 0.2186833 0.2185833 0.2186167 ]\n",
            "Average error =  0.2186817 \n",
            "\n",
            "Epoch 271 : 280  [==================]\n",
            "Errors = [ 0.2185833 0.2186167 0.2185667 0.2186500 0.2185500 0.2186167 0.2185833 0.2185667 0.2186167 0.2186333 ]\n",
            "Average error =  0.2185983 \n",
            "\n",
            "Epoch 281 : 290  [==================]\n",
            "Errors = [ 0.2186000 0.2185667 0.2185333 0.2185500 0.2185167 0.2184333 0.2184167 0.2184500 0.2184167 0.2184333 ]\n",
            "Average error =  0.2184917 \n",
            "\n",
            "Epoch 291 : 300  [==================]\n",
            "Errors = [ 0.2183333 0.2183167 0.2183167 0.2183000 0.2183167 0.2183333 0.2183500 0.2183000 0.2182667 0.2182500 ]\n",
            "Average error =  0.2183083 \n",
            "\n",
            "Epoch 301 : 310  [==================]\n",
            "Errors = [ 0.2182000 0.2182167 0.2182000 0.2182667 0.2182833 0.2182167 0.2182000 0.2182000 0.2181833 0.2181500 ]\n",
            "Average error =  0.2182117 \n",
            "\n",
            "Epoch 311 : 320  [==================]\n",
            "Errors = [ 0.2180500 0.2180500 0.2180000 0.2179167 0.2177667 0.2178500 0.2177667 0.2178667 0.2178000 0.2178000 ]\n",
            "Average error =  0.2178867 \n",
            "\n",
            "Epoch 321 : 330  [==================]\n",
            "Errors = [ 0.2178000 0.2177667 0.2177667 0.2177167 0.2177667 0.2178000 0.2176667 0.2175833 0.2176667 0.2176667 ]\n",
            "Average error =  0.2177200 \n",
            "\n",
            "Epoch 331 : 340  [==================]\n",
            "Errors = [ 0.2176333 0.2176333 0.2175667 0.2175333 0.2175833 0.2175833 0.2175667 0.2176167 0.2175167 0.2175667 ]\n",
            "Average error =  0.2175800 \n",
            "\n",
            "Epoch 341 : 350  [==================]\n",
            "Errors = [ 0.2175500 0.2176000 0.2176167 0.2175667 0.2175667 0.2175167 0.2175500 0.2175000 0.2174833 0.2174667 ]\n",
            "Average error =  0.2175417 \n",
            "\n",
            "Epoch 351 : 360  [==================]\n",
            "Errors = [ 0.2174833 0.2174167 0.2174167 0.2173667 0.2174333 0.2174500 0.2174833 0.2174500 0.2174333 0.2174833 ]\n",
            "Average error =  0.2174417 \n",
            "\n",
            "Epoch 361 : 370  [==================]\n",
            "Errors = [ 0.2174500 0.2174833 0.2174667 0.2174500 0.2174167 0.2173667 0.2173500 0.2173333 0.2173500 0.2172833 ]\n",
            "Average error =  0.2173950 \n",
            "\n",
            "Epoch 371 : 380  [==================]\n",
            "Errors = [ 0.2173000 0.2172167 0.2172167 0.2172833 0.2171833 0.2172167 0.2172333 0.2171167 0.2171167 0.2171167 ]\n",
            "Average error =  0.2172000 \n",
            "\n",
            "Epoch 381 : 390  [==================]\n",
            "Errors = [ 0.2171000 0.2170833 0.2170500 0.2170333 0.2170667 0.2170667 0.2170167 0.2170000 0.2170167 0.2170500 ]\n",
            "Average error =  0.2170483 \n",
            "\n",
            "Epoch 391 : 400  [==================]\n",
            "Errors = [ 0.2170167 0.2169167 0.2170833 0.2170333 0.2170167 0.2170000 0.2170000 0.2170167 0.2170167 0.2170167 ]\n",
            "Average error =  0.2170117 \n",
            "\n",
            "Epoch 401 : 410  [==================]\n",
            "Errors = [ 0.2170333 0.2170500 0.2170667 0.2169500 0.2169333 0.2169167 0.2169000 0.2168667 0.2168833 0.2168667 ]\n",
            "Average error =  0.2169467 \n",
            "\n",
            "Epoch 411 : 420  [==================]\n",
            "Errors = [ 0.2168667 0.2168833 0.2168500 0.2168000 0.2168333 0.2168000 0.2168833 0.2168500 0.2168333 0.2167833 ]\n",
            "Average error =  0.2168383 \n",
            "\n",
            "Epoch 421 : 430  [==================]\n",
            "Errors = [ 0.2167500 0.2167167 0.2167333 0.2167167 0.2166500 0.2166333 0.2166000 0.2164833 0.2165333 0.2164833 ]\n",
            "Average error =  0.2166300 \n",
            "\n",
            "Epoch 431 : 440  [==================]\n",
            "Errors = [ 0.2165167 0.2165000 0.2164833 0.2164667 0.2164667 0.2164333 0.2164500 0.2164167 0.2164500 0.2164500 ]\n",
            "Average error =  0.2164633 \n",
            "\n",
            "Epoch 441 : 450  [==================]\n",
            "Errors = [ 0.2164667 0.2164833 0.2164500 0.2164333 0.2163333 0.2163500 0.2163833 0.2164000 0.2164000 0.2163833 ]\n",
            "Average error =  0.2164083 \n",
            "\n",
            "Epoch 451 : 460  [==================]\n",
            "Errors = [ 0.2163667 0.2163000 0.2162500 0.2162333 0.2162500 0.2162000 0.2161833 0.2162000 0.2161500 0.2161833 ]\n",
            "Average error =  0.2162317 \n",
            "\n",
            "Epoch 461 : 470  [==================]\n",
            "Errors = [ 0.2161500 0.2161500 0.2161500 0.2161167 0.2160167 0.2160500 0.2160500 0.2160500 0.2160000 0.2160500 ]\n",
            "Average error =  0.2160783 \n",
            "\n",
            "Epoch 471 : 480  [==================]\n",
            "Errors = [ 0.2160667 0.2160167 0.2160167 0.2160333 0.2160500 0.2160333 0.2160167 0.2160000 0.2159667 0.2160000 ]\n",
            "Average error =  0.2160200 \n",
            "\n",
            "Epoch 481 : 490  [==================]\n",
            "Errors = [ 0.2159167 0.2159000 0.2158833 0.2159500 0.2159500 0.2159500 0.2159333 0.2159000 0.2159000 0.2159000 ]\n",
            "Average error =  0.2159183 \n",
            "\n",
            "Epoch 491 : 500  [==================]\n",
            "Errors = [ 0.2158667 0.2158833 0.2158667 0.2159167 0.2158833 0.2158833 0.2158833 0.2158333 0.2158333 0.2158500 ]\n",
            "Average error =  0.2158700 \n",
            "\n"
          ],
          "name": "stdout"
        },
        {
          "output_type": "execute_result",
          "data": {
            "text/plain": [
              "array(0.2281)"
            ]
          },
          "metadata": {
            "tags": []
          },
          "execution_count": 18
        }
      ]
    }
  ]
}